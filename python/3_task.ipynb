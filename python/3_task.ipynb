{
 "cells": [
  {
   "cell_type": "markdown",
   "id": "657be689",
   "metadata": {},
   "source": [
    "# Самостоятельное задание #3\n",
    "\n",
    "\n",
    "### Задание 1\n",
    "\n",
    "Допишите функцию, которая принимает массив из 10 чисел и возвращает их сумму."
   ]
  },
  {
   "cell_type": "code",
   "execution_count": 15,
   "id": "18ffcbab",
   "metadata": {},
   "outputs": [
    {
     "name": "stdout",
     "output_type": "stream",
     "text": [
      "15\n"
     ]
    }
   ],
   "source": [
    "\n",
    "def fun(array: list):\n",
    "    ans = sum(array)\n",
    "    return ans\n"
   ]
  },
  {
   "cell_type": "markdown",
   "id": "eb78afc0",
   "metadata": {},
   "source": [
    "\n",
    "### Задание 2\n",
    "\n",
    "Допишите функцию, которая принимает массив чисел и возвращает количество чисел равных нулю."
   ]
  },
  {
   "cell_type": "code",
   "execution_count": 16,
   "id": "7e8fe536",
   "metadata": {},
   "outputs": [
    {
     "name": "stdout",
     "output_type": "stream",
     "text": [
      "3\n"
     ]
    }
   ],
   "source": [
    "def fun(array: list):\n",
    "    return array.count(0)"
   ]
  },
  {
   "cell_type": "markdown",
   "id": "570d5a26",
   "metadata": {},
   "source": [
    "\n",
    "### Задание 3\n",
    "\n",
    "Напишите программу, в которой задается  натуральное число n и выводится лестница из n ступенек, i-я ступенька должна состоять из чисел от 1 до i без пробелов."
   ]
  },
  {
   "cell_type": "code",
   "execution_count": 29,
   "id": "69fd0501",
   "metadata": {},
   "outputs": [
    {
     "name": "stdout",
     "output_type": "stream",
     "text": [
      "1\n",
      "12\n",
      "123\n",
      "1234\n",
      "12345\n",
      "123456\n",
      "1234567\n",
      "12345678\n",
      "123456789\n",
      "12345678910\n",
      "1234567891011\n",
      "123456789101112\n",
      "12345678910111213\n",
      "1234567891011121314\n",
      "123456789101112131415\n",
      "12345678910111213141516\n",
      "1234567891011121314151617\n",
      "123456789101112131415161718\n",
      "12345678910111213141516171819\n",
      "1234567891011121314151617181920\n",
      "123456789101112131415161718192021\n",
      "12345678910111213141516171819202122\n"
     ]
    }
   ],
   "source": [
    "def fun(n: int):\n",
    "    for i in range(1,n+1):\n",
    "        for j in range(1,i+1):\n",
    "            print(j, end ='')\n",
    "        print()\n",
    "\n",
    "fun(22)"
   ]
  },
  {
   "cell_type": "markdown",
   "id": "b6ef1c44",
   "metadata": {},
   "source": [
    "\n",
    "### Задание 4\n",
    "\n",
    "Напишите программу, в которой задается натуральное число n и выводится пирамида из n ступенек, i-я ступень должна состоять из чисел от 1 до i и обратно без пробелов."
   ]
  },
  {
   "cell_type": "code",
   "execution_count": 70,
   "id": "6b038f87",
   "metadata": {},
   "outputs": [
    {
     "name": "stdout",
     "output_type": "stream",
     "text": [
      "                              11\n",
      "                             1221\n",
      "                            123321\n",
      "                           12344321\n",
      "                          1234554321\n",
      "                         123456654321\n",
      "                        12345677654321\n",
      "                       1234567887654321\n",
      "                      123456789987654321\n",
      "                    1234567891010987654321\n",
      "                  12345678910111110987654321\n",
      "                123456789101112121110987654321\n",
      "              1234567891011121313121110987654321\n",
      "            12345678910111213141413121110987654321\n",
      "          123456789101112131415151413121110987654321\n",
      "        1234567891011121314151616151413121110987654321\n",
      "      12345678910111213141516171716151413121110987654321\n",
      "    123456789101112131415161718181716151413121110987654321\n",
      "  1234567891011121314151617181919181716151413121110987654321\n",
      "12345678910111213141516171819202019181716151413121110987654321\n"
     ]
    }
   ],
   "source": [
    "def fun(n: int):\n",
    "    a=''\n",
    "    for i in range(1,n+1):\n",
    "        a += str(i)\n",
    "    length = len(a)\n",
    "    for i in range(1,n+1):\n",
    "        b=''\n",
    "        for k in range(1,i+1):\n",
    "            b+=str(k)\n",
    "        temp = len(b)\n",
    "        for k in range(length - temp):\n",
    "            print(' ', end='')\n",
    "        for j in range(1,i+1):\n",
    "            print(j, end ='')\n",
    "        for j in range(i, 0, -1):\n",
    "            print(j, end='')\n",
    "        print()\n",
    "\n",
    "fun(20)"
   ]
  },
  {
   "cell_type": "markdown",
   "id": "b4552ef5",
   "metadata": {},
   "source": [
    "\n",
    "### Задание 5\n",
    "\n",
    "Напишите программу, в которой задается натуральное число n и выводится ромб из `n*2-1` ступенек, i-я ступень должна состоять из чисел от 1 до i и обратно без пробелов."
   ]
  },
  {
   "cell_type": "code",
   "execution_count": 74,
   "id": "5eaae897",
   "metadata": {},
   "outputs": [
    {
     "name": "stdout",
     "output_type": "stream",
     "text": [
      "11\n",
      "1221\n",
      "123321\n",
      "12344321\n",
      "1234554321\n"
     ]
    }
   ],
   "source": [
    "def fun(n: int):\n",
    "    for i in range(1,2*n):\n",
    "        for j in range(1,i+1):\n",
    "            print(j, end ='')\n",
    "        for j in range(i, 0, -1):\n",
    "            print(j, end='')\n",
    "        print()\n",
    "\n",
    "fun(3)"
   ]
  }
 ],
 "metadata": {
  "kernelspec": {
   "display_name": "Python 3.8.10 64-bit",
   "language": "python",
   "name": "python3"
  },
  "language_info": {
   "codemirror_mode": {
    "name": "ipython",
    "version": 3
   },
   "file_extension": ".py",
   "mimetype": "text/x-python",
   "name": "python",
   "nbconvert_exporter": "python",
   "pygments_lexer": "ipython3",
   "version": "3.8.10"
  },
  "vscode": {
   "interpreter": {
    "hash": "9650cb4e16cdd4a8e8e2d128bf38d875813998db22a3c986335f89e0cb4d7bb2"
   }
  }
 },
 "nbformat": 4,
 "nbformat_minor": 5
}
